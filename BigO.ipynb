{
 "cells": [
  {
   "cell_type": "markdown",
   "metadata": {},
   "source": [
    "# Big O\n",
    "\n",
    "## Introduction\n",
    "\n",
    "Big O asymptotic analysis is a way to describe the performance of an algorithm. It is a way to describe the performance of an algorithm in terms of how it's runtime or space requirements grow as the input size grows. It is a way to compare the efficiency of different algorithms.\n",
    "\n",
    "### Good Code\n",
    "\n",
    "1. Readable\n",
    "2. Scalable (Big O)\n",
    "\n",
    "## Big O Notation\n",
    "\n",
    "Big O notation is a way to describe the performance of an algorithm in terms of how it's runtime or space requirements grow as the input size grows. It is a way to compare the efficiency of different algorithms. It is written as a function of the input size, n. For example, if an algorithm takes 5n^2 + 27n + 1005 steps to run, as n gets arbitrarily large, we drop the constants and the lower order terms and say that this algorithm is O(n^2).\n",
    "\n",
    "## Big O Examples\n",
    "\n",
    "### O(1)\n",
    "\n",
    "An algorithm is O(1) if the number of steps it takes is independent of the size of the input data set.\n",
    "\n",
    "```python\n",
    "\n",
    "def is_first_element_null(elements):\n",
    "    return elements[0] == None\n",
    "\n",
    "```\n",
    "\n",
    "### O(n)\n",
    "\n",
    "An algorithm is O(n) if the number of steps it takes is directly proportional to the size of the input data set.\n",
    "\n",
    "```python\n",
    "\n",
    "def get_element(elements, index):\n",
    "    return elements[index]\n",
    "\n",
    "```"
   ]
  },
  {
   "cell_type": "code",
   "execution_count": 8,
   "metadata": {},
   "outputs": [
    {
     "name": "stdout",
     "output_type": "stream",
     "text": [
      "Found Nemo!\n",
      "Call to find Nemo took 0.0\n"
     ]
    }
   ],
   "source": [
    "import time\n",
    "\n",
    "NEMO = ['nemo']\n",
    "\n",
    "EVERYONE = ['dory', 'bruce', 'marlin', 'nemo', 'gill', 'bloat', 'nigel', 'squirt', 'darla', 'hank']\n",
    "\n",
    "LOTSOFNEMO = ['nemo' for x in range(100000)]\n",
    "\n",
    "def findNemo(array):\n",
    "    for i in range(len(array)):\n",
    "        if array[i] == 'nemo':\n",
    "            print('Found Nemo!')\n",
    "    print('Call to find Nemo took', t1-t0)\n",
    "\n",
    "findNemo(EVERYONE)\n",
    "\n",
    "# run time of findNemo is O(n) or linear time"
   ]
  },
  {
   "cell_type": "code",
   "execution_count": null,
   "metadata": {},
   "outputs": [],
   "source": [
    "def anotherFunction():\n",
    "    print('hey')\n",
    "\n",
    "def funChallenge(input):\n",
    "    a = 10 # O(1)\n",
    "    a = 50 + 3 # O(1)\n",
    "    for i in range(len(input)):\n",
    "        anotherFunction() # O(n)\n",
    "        strange = True # O(n)\n",
    "        a += 1 # O(n)\n",
    "    return a # O(1)\n",
    "\n",
    "# run time of funChallenge is O(3 + 4n) or O(n)\n",
    "\n",
    "\n",
    "def anotherFunChallenge(input):\n",
    "    a = 5 # O(1)\n",
    "    b = 10 # O(1)\n",
    "    c = 50 # O(1)\n",
    "    for i in range(len(input)):\n",
    "        x = i + 1 # O(n)\n",
    "        y = i + 2 # O(n)\n",
    "        z = i + 3 # O(n)\n",
    "    for j in range(len(input)):\n",
    "        p = j * 2 # O(n)\n",
    "        q = j * 2 # O(n)\n",
    "    whoAmI = \"I don't know'\" # O(1) \n",
    "    \n",
    "    # run time of anotherFunChallenge is O(4 + 5n) or O(n)"
   ]
  }
 ],
 "metadata": {
  "kernelspec": {
   "display_name": "Python 3.10.4 64-bit",
   "language": "python",
   "name": "python3"
  },
  "language_info": {
   "codemirror_mode": {
    "name": "ipython",
    "version": 3
   },
   "file_extension": ".py",
   "mimetype": "text/x-python",
   "name": "python",
   "nbconvert_exporter": "python",
   "pygments_lexer": "ipython3",
   "version": "3.10.4"
  },
  "orig_nbformat": 4,
  "vscode": {
   "interpreter": {
    "hash": "369f2c481f4da34e4445cda3fffd2e751bd1c4d706f27375911949ba6bb62e1c"
   }
  }
 },
 "nbformat": 4,
 "nbformat_minor": 2
}
