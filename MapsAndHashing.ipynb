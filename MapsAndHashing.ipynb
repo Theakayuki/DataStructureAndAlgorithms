{
 "cells": [
  {
   "cell_type": "markdown",
   "metadata": {},
   "source": [
    "# Maps & Hashing\n",
    "\n",
    "## Maps\n",
    "\n",
    "Maps are a data structure that can be used to store key-value pairs.\n",
    "Similar to dictionaries, they are unordered, but they are more flexible."
   ]
  },
  {
   "cell_type": "code",
   "execution_count": 21,
   "metadata": {},
   "outputs": [
    {
     "name": "stdout",
     "output_type": "stream",
     "text": [
      "Atlanta\n",
      "\n",
      "Mountain View\n",
      "\n",
      "India Bangalore\n",
      "\n",
      "China Shanghai\n",
      "\n"
     ]
    }
   ],
   "source": [
    "\"\"\"\n",
    "Cities to add:\n",
    "Bangalore (India, Asia)\n",
    "Atlanta (USA, North America)\n",
    "Cairo (Egypt, Africa)\n",
    "Shanghai (China, Asia)\"\"\"\n",
    "\n",
    "locations = {'North America': {'USA': ['Mountain View', 'Atlanta']},\n",
    "             'Asia': {'India': ['Bangalore'], 'China': ['Shanghai']},\n",
    "             'Africa': {'Egypt': ['Cairo']}}\n",
    "\n",
    "# Print all the cities in the USA in alphabetic order\n",
    "def print_usa_cities():\n",
    "    for country, cities in locations['North America'].items():\n",
    "        if country == 'USA':\n",
    "            for city in sorted(cities):\n",
    "                print(\"{}\\n\".format(city))\n",
    "print_usa_cities()\n",
    "\n",
    "# Print all the cities in Asia, in alphabetic order, next to the name of the country\n",
    "def print_asia_cities():\n",
    "    for country, cities in locations['Asia'].items():\n",
    "        for city in sorted(cities):\n",
    "            print(\"{} {}\\n\".format(country, city))\n",
    "print_asia_cities()\n"
   ]
  },
  {
   "cell_type": "markdown",
   "metadata": {},
   "source": [
    "## Hash Functions\n",
    "\n",
    "Works by taking an input and converting it to a hash value.\n",
    "\n",
    "### Collisions\n",
    "\n",
    "When two keys are hashed to the same value, can be avoided by adding a salt.\n",
    "Or creating buckets and storing the broken hashes in them that can be found with the hash value.\n",
    "\n",
    "### Load Factor\n",
    "\n",
    "Used to determine if the map needs more buckets. If the load factor is too high, the map needs to be resized.\n",
    "For example, if the load factor is 0.01, then the majority of the buckets are empty. If the load factor is close to 1, then the majority of the buckets are full.\n",
    "\n",
    "### Hash Maps\n",
    "\n",
    "Will have the key be the hash value and the value be the key. In python, this is called a dictionary. In JavaScript, this is called a map. In Java, this is called a hashmap.\n",
    "\n",
    "\n",
    "\n"
   ]
  },
  {
   "cell_type": "code",
   "execution_count": null,
   "metadata": {},
   "outputs": [],
   "source": [
    "class HashTable:\n",
    "    \"\"\"class that stores strings in the hash table that uses the first two letters to calculate the key\n",
    "    \"\"\"\n",
    "    def __init__(self):\n",
    "        self.table = [None] * 10000\n",
    "    def store(self, string):\n",
    "        \"\"\"_summary_\n",
    "        store the string in the hash table\n",
    "        \"\"\"\n",
    "        hv = self.calculate_hash_value(string)\n",
    "        if hv != -1:\n",
    "            if self.table[hv] is None:\n",
    "                self.table[hv] = [string]\n",
    "            else:\n",
    "                self.table[hv].append(string)\n",
    "    def lookup(self, string):\n",
    "        \"\"\"Return the hash value if the string is already in the hash table, otherwise return -1\n",
    "        \"\"\"\n",
    "        hv = self.calculate_hash_value(string)\n",
    "        if hv != -1:\n",
    "            if self.table[hv] is None:\n",
    "                return -1\n",
    "            else:\n",
    "                if string in self.table[hv]:\n",
    "                    return hv\n",
    "                else:\n",
    "                    return -1\n",
    "        else:\n",
    "            return -1\n",
    "    def calculate_hash_value(self, string):\n",
    "        \"\"\"helper function to calculate the hash value of the string\n",
    "        \"\"\"\n",
    "        return ord(string[0]) * 100 + ord(string[1])\n",
    "    "
   ]
  }
 ],
 "metadata": {
  "kernelspec": {
   "display_name": "Python 3.10.4 64-bit",
   "language": "python",
   "name": "python3"
  },
  "language_info": {
   "codemirror_mode": {
    "name": "ipython",
    "version": 3
   },
   "file_extension": ".py",
   "mimetype": "text/x-python",
   "name": "python",
   "nbconvert_exporter": "python",
   "pygments_lexer": "ipython3",
   "version": "3.10.4"
  },
  "orig_nbformat": 4,
  "vscode": {
   "interpreter": {
    "hash": "369f2c481f4da34e4445cda3fffd2e751bd1c4d706f27375911949ba6bb62e1c"
   }
  }
 },
 "nbformat": 4,
 "nbformat_minor": 2
}
