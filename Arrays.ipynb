{
 "cells": [
  {
   "cell_type": "markdown",
   "metadata": {},
   "source": [
    "# Arrays\n",
    "\n",
    "Are best used for storing data of the same type. Arrays are mutable, meaning that you can change the values of the elements in the array. Arrays are indexed starting at 0.\n",
    "They are best used if you are wanting to iterate over a collection of data.\n",
    "When you use lookup or push, the time complexity is O(1) because you are accessing a specific index in the array.\n",
    "But when you use insert or delete, the time complexity is O(n) because you have to shift all the elements in the array.\n",
    "\n"
   ]
  },
  {
   "cell_type": "code",
   "execution_count": 4,
   "metadata": {},
   "outputs": [
    {
     "name": "stdout",
     "output_type": "stream",
     "text": [
      "['x', 'a', 'y', 'b', 'c']\n"
     ]
    }
   ],
   "source": [
    "import string\n",
    "\n",
    "\n",
    "strings = ['a', 'b', 'c', 'd']\n",
    "\n",
    "# 4*4 = 16 bytes of storage\n",
    "\n",
    "strings[2] # O(1)\n",
    "\n",
    "strings.append('e') # O(1)\n",
    "\n",
    "strings.pop() # O(1)\n",
    "strings.pop() # O(1)\n",
    "\n",
    "# add 'x' to the front of the list\n",
    "strings.insert(0, 'x') # O(n)\n",
    "\n",
    "# add 'y' to the middle of the list\n",
    "strings.insert(2, 'y') # O(n)\n",
    "strings.\n",
    "\n",
    "print(strings)"
   ]
  },
  {
   "cell_type": "markdown",
   "metadata": {},
   "source": [
    "## Static vs Dynamic Arrays\n",
    "\n",
    "Static arrays are arrays that have a fixed size. They are best used when you know the size of the array beforehand. Static arrays are allocated on the stack, meaning that they are stored in the memory of the program. Static arrays are faster than dynamic arrays because they are stored in the stack, which is faster than the heap. Static arrays are also more memory efficient because they are stored in the stack, which is a fixed size. Static arrays are also more secure because they are stored in the stack, which is a fixed size.\n",
    "\n",
    "Dynamic arrays are arrays that have a variable size. They are best used when you don't know the size of the array beforehand. Dynamic arrays are allocated on the heap, meaning that they are stored in the memory of the computer. Dynamic arrays are slower than static arrays because they are stored in the heap, which is slower than the stack. Dynamic arrays are also less memory efficient because they are stored in the heap, which is a variable size. Dynamic arrays are also less secure because they are stored in the heap, which is a variable size.\n",
    "\n",
    "Languages that have Static Arrays:\n",
    "- C\n",
    "- Java\n",
    "- C++\n",
    "- C#\n",
    "- Go\n",
    "- Rust\n",
    "\n",
    "Languages that have Dynamic Arrays:\n",
    "- Python\n",
    "- JavaScript\n",
    "- Ruby\n",
    "- PHP\n",
    "- Swift\n",
    "- Kotlin\n",
    "- Dart\n",
    "- Scala\n",
    "- Haskell\n",
    "- Julia\n",
    "- Lua\n",
    "- Perl\n",
    "- R\n",
    "- Matlab"
   ]
  },
  {
   "cell_type": "code",
   "execution_count": null,
   "metadata": {},
   "outputs": [],
   "source": [
    "def maxSubArray(self, nums: list[int]) -> int:\n",
    "    \"\"\"find the contiguous subarray containing at least one number which has the largest sum and return its sum\"\"\"\n",
    "    # Kadane's Algorithm\n",
    "    # O(n) time | O(1) space\n",
    "    max_sum = nums[0]\n",
    "    current_sum = nums[0]\n",
    "    for i in range(1, len(nums)):\n",
    "        current_sum = max(nums[i], current_sum + nums[i])\n",
    "        max_sum = max(max_sum, current_sum)\n",
    "    return max_sum"
   ]
  },
  {
   "cell_type": "code",
   "execution_count": 7,
   "metadata": {},
   "outputs": [
    {
     "name": "stdout",
     "output_type": "stream",
     "text": [
      "None\n"
     ]
    }
   ],
   "source": [
    "def moveZeros(nums: list[int]) -> None:\n",
    "    idx = 0 # index of the first zero in the array\n",
    "    for i in range(len(nums)):\n",
    "        if nums[i]: # if the current element is not zero\n",
    "            nums[idx], nums[i] = nums[i], nums[idx] # swap\n",
    "            idx += 1\n",
    "\n",
    "testArray = [0, 1, 0, 3, 12, 0, 25, 57, 0, 1, 2]\n",
    "print(moveZeros(testArray))"
   ]
  },
  {
   "cell_type": "code",
   "execution_count": null,
   "metadata": {},
   "outputs": [],
   "source": [
    "def rotate(nums: list[int], k: int) -> None:\n",
    "    \"\"\"rotate the array to the right by k steps\"\"\"\n",
    "    # O(n) time | O(1) space\n",
    "    k %= len(nums)\n",
    "    nums.reverse()\n",
    "    nums[:k] = reversed(nums[:k])\n",
    "    nums[k:] = reversed(nums[k:])"
   ]
  },
  {
   "cell_type": "code",
   "execution_count": 8,
   "metadata": {},
   "outputs": [
    {
     "name": "stdout",
     "output_type": "stream",
     "text": [
      "True\n"
     ]
    }
   ],
   "source": [
    "#given two strings, s and t return true if s is a subsequence of t\n",
    "\n",
    "def isSubsequence(s: str, t: str) -> bool: # O(n + m) time | O(1) space\n",
    "    i = 0\n",
    "    j = 0\n",
    "    while (i < len(s) and j < len(t)):\n",
    "        if (s[i] == t[j]):\n",
    "            i += 1\n",
    "        j += 1\n",
    "    return i == len(s)\n",
    "\n",
    "print(isSubsequence(\"abc\", \"ahbgdc\"))"
   ]
  }
 ],
 "metadata": {
  "kernelspec": {
   "display_name": "Python 3.10.4 64-bit",
   "language": "python",
   "name": "python3"
  },
  "language_info": {
   "codemirror_mode": {
    "name": "ipython",
    "version": 3
   },
   "file_extension": ".py",
   "mimetype": "text/x-python",
   "name": "python",
   "nbconvert_exporter": "python",
   "pygments_lexer": "ipython3",
   "version": "3.10.4"
  },
  "orig_nbformat": 4,
  "vscode": {
   "interpreter": {
    "hash": "369f2c481f4da34e4445cda3fffd2e751bd1c4d706f27375911949ba6bb62e1c"
   }
  }
 },
 "nbformat": 4,
 "nbformat_minor": 2
}
