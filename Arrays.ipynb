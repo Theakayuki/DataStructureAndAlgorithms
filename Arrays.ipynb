{
 "cells": [
  {
   "cell_type": "markdown",
   "metadata": {},
   "source": [
    "# Arrays\n",
    "\n",
    "Are best used for storing data of the same type. Arrays are mutable, meaning that you can change the values of the elements in the array. Arrays are indexed starting at 0.\n",
    "They are best used if you are wanting to iterate over a collection of data.\n",
    "When you use lookup or push, the time complexity is O(1) because you are accessing a specific index in the array.\n",
    "But when you use insert or delete, the time complexity is O(n) because you have to shift all the elements in the array.\n",
    "\n"
   ]
  },
  {
   "cell_type": "code",
   "execution_count": null,
   "metadata": {},
   "outputs": [],
   "source": [
    "strings = ['a', 'b', 'c', 'd']\n",
    "\n",
    "# 4*4 = 16 bytes of storage\n",
    "\n",
    "strings[2] # O(1)\n",
    "\n",
    "strings.append('e') # O(1)\n",
    "\n"
   ]
  }
 ],
 "metadata": {
  "kernelspec": {
   "display_name": "Python 3.10.4 64-bit",
   "language": "python",
   "name": "python3"
  },
  "language_info": {
   "name": "python",
   "version": "3.10.4"
  },
  "orig_nbformat": 4,
  "vscode": {
   "interpreter": {
    "hash": "369f2c481f4da34e4445cda3fffd2e751bd1c4d706f27375911949ba6bb62e1c"
   }
  }
 },
 "nbformat": 4,
 "nbformat_minor": 2
}
