{
 "cells": [
  {
   "cell_type": "markdown",
   "metadata": {},
   "source": [
    "# Hash Tables\n",
    "\n",
    "Hash tables are a data structure that allow you to store data in a way that allows you to quickly retrieve it. They are also known as dictionaries or associative arrays.\n",
    "\n",
    "## Hash Functions\n",
    "\n",
    "A hash function is a function that takes a key and returns an index in the range of the hash table. The hash function is used to determine where to store the key-value pair in the hash table.\n",
    "\n",
    "## Hash Collisions\n",
    "\n",
    "A hash collision occurs when two keys are mapped to the same index in the hash table. This is a problem because it means that the hash table can't store both keys. There are several ways to handle hash collisions. One way is to use a linked list at each index in the hash table. When a hash collision occurs, the new key-value pair is added to the linked list at that index. When retrieving a value from the hash table, you must search through the linked list at that index to find the value associated with the key.\n",
    "\n"
   ]
  },
  {
   "cell_type": "code",
   "execution_count": 1,
   "metadata": {},
   "outputs": [
    {
     "name": "stdout",
     "output_type": "stream",
     "text": [
      "54\n",
      "John\n",
      "True\n",
      "abra kadabra\n",
      "ahhhhh!\n"
     ]
    }
   ],
   "source": [
    "\n",
    "class user:\n",
    "    age = 54\n",
    "    name = \"John\"\n",
    "    magic = True\n",
    "\n",
    "    def scream():\n",
    "        print(\"ahhhhh!\")\n",
    "\n",
    "print(user.age)\n",
    "print(user.name)\n",
    "user.spell = \"abra kadabra\"\n",
    "print(user.magic)\n",
    "print(user.spell)\n",
    "user.scream()\n"
   ]
  },
  {
   "cell_type": "code",
   "execution_count": 34,
   "metadata": {},
   "outputs": [],
   "source": [
    "class HashTable:\n",
    "    data: list\n",
    "    \n",
    "    def __init__(self, size):\n",
    "        self.data = [None] * size\n",
    "    \n",
    "    def _hash(self, key):\n",
    "        hash = 0\n",
    "        for i in range(len(key)):\n",
    "            hash = (hash + ord(key[i]) * i) % len(self.data)\n",
    "        return hash\n",
    "\n",
    "    def set(self, key:str, value:int):\n",
    "        keyPos = self._hash(key)\n",
    "        if (self.data[keyPos] is None):\n",
    "            self.data[keyPos] = []\n",
    "        self.data[keyPos].append([key, value])\n",
    "    \n",
    "    def get(self, key:str) -> int:\n",
    "        keyPos = self._hash(key)\n",
    "        if (self.data[keyPos] is not None):\n",
    "            for i in range(len(self.data[keyPos])):\n",
    "                if (self.data[keyPos][i][0] == key):\n",
    "                    return self.data[keyPos][i][1]\n",
    "        return None\n",
    "\n"
   ]
  },
  {
   "cell_type": "code",
   "execution_count": 39,
   "metadata": {},
   "outputs": [
    {
     "name": "stdout",
     "output_type": "stream",
     "text": [
      "[None, [['grapes', 10000], ['grapess', 5000]]]\n"
     ]
    }
   ],
   "source": [
    "myHashTable = HashTable(2)\n",
    "myHashTable.set('grapes', 10000)\n",
    "myHashTable.get('grapes')\n",
    "myHashTable.set('grapess', 5000)\n",
    "#print the whole hash table\n",
    "print(myHashTable.data)"
   ]
  },
  {
   "cell_type": "code",
   "execution_count": 1,
   "metadata": {},
   "outputs": [
    {
     "name": "stdout",
     "output_type": "stream",
     "text": [
      "2\n"
     ]
    }
   ],
   "source": [
    "def firstRecurringCharacter(input: list[int]) -> int:\n",
    "    hash = {}\n",
    "    for i in range(len(input)):\n",
    "        if (input[i] in hash):\n",
    "            return input[i]\n",
    "        else:\n",
    "            hash[input[i]] = i\n",
    "            \n",
    "    return None\n",
    "\n",
    "print(firstRecurringCharacter([2,5,1,2,3,5,1,2,4]))"
   ]
  },
  {
   "cell_type": "code",
   "execution_count": null,
   "metadata": {},
   "outputs": [],
   "source": []
  }
 ],
 "metadata": {
  "kernelspec": {
   "display_name": "Python 3.10.4 64-bit",
   "language": "python",
   "name": "python3"
  },
  "language_info": {
   "codemirror_mode": {
    "name": "ipython",
    "version": 3
   },
   "file_extension": ".py",
   "mimetype": "text/x-python",
   "name": "python",
   "nbconvert_exporter": "python",
   "pygments_lexer": "ipython3",
   "version": "3.10.4"
  },
  "orig_nbformat": 4,
  "vscode": {
   "interpreter": {
    "hash": "369f2c481f4da34e4445cda3fffd2e751bd1c4d706f27375911949ba6bb62e1c"
   }
  }
 },
 "nbformat": 4,
 "nbformat_minor": 2
}
