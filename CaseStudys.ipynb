{
 "cells": [
  {
   "cell_type": "markdown",
   "metadata": {},
   "source": [
    "# Case Studies in Algorithmic Problem Solving\n",
    "\n",
    "## Shortest Path Problem\n",
    "\n",
    "Normally, paths would have weights, but for simplicity, we will assume that all paths have weight 1. And we are just trying to find the path with the least edges to the target node.\n",
    "\n",
    "## Dijkstra's Algorithm\n",
    "\n",
    "Dijkstra's algorithm is a greedy algorithm that finds the shortest path from a source node to all other nodes in a graph. It is a single-source the shortest path algorithm, meaning that it finds the shortest path from a single node to all other nodes in the graph. It is a weighted graph, meaning that the edges have weights. It is a directed graph, meaning that the edges have a direction. It is a non-negative graph, meaning that the edges have non-negative weights.\n",
    "\n",
    "## KnapSack Problem\n",
    "\n",
    "The knapsack problem is a problem in combinatorial optimization: Given a set of items, each with a weight and a value, determine the number of each item to include in a collection so that the total weight is less than or equal to a given limit and the total value is as large as possible. It derives its name from the problem faced by someone who is constrained by a fixed-size knapsack and must fill it with the most valuable items. The problem often arises in resource allocation where the decision makers have to choose from a set of non-divisible projects or tasks under a fixed budget or time constraint, respectively. The problem can also be seen as the zero-one knapsack problem: 0-1 knapsack problem is a special case of the knapsack problem, but the item weights are all integers.\n",
    "\n",
    "### Brute Force\n",
    "\n",
    "The brute force approach is to try all possible combinations of items and see which one gives the best value. This is a very inefficient approach, since there are 2^n possible combinations, where n is the number of items. This is a very inefficient approach, since there are 2^n possible combinations, where n is the number of items.\n",
    "\n",
    "### Faster Approach\n",
    "\n",
    "The faster approach is to use dynamic programming. Dynamic programming is a method for solving a complex problem by breaking it down into a collection of simpler sub-problems, solving each of those sub-problems just once, and storing their solutions. The next time the same sub-problem occurs, instead of recomputing its solution, one simply looks up the previously computed solution, thereby saving computation time at the expense of a (hopefully) modest expenditure in storage space. Each of the sub-problems is said to overlap with the next, hence the term \"dynamic programming\".\n",
    "\n",
    "## Travelling Salesman Problem\n",
    "\n",
    "The travelling salesman problem (TSP) asks the following question: \"Given a list of cities and the distances between each pair of cities, what is the shortest possible route that visits each city and returns to the origin city?\" It is an NP-hard problem in combinatorial optimization, important in operations research and theoretical computer science. "
   ]
  },
  {
   "cell_type": "code",
   "execution_count": 3,
   "metadata": {},
   "outputs": [
    {
     "name": "stdout",
     "output_type": "stream",
     "text": [
      "[[1], [1, 1], [1, 2, 1], [1, 3, 3, 1], [1, 4, 6, 4, 1]]\n"
     ]
    }
   ],
   "source": []
  },
  {
   "cell_type": "markdown",
   "metadata": {},
   "source": [
    "# Dynamic Programming\n",
    "\n",
    "Dynamic programming is a method for solving a complex problem by breaking it down into a collection of simpler sub-problems, solving each of those sub-problems just once, and storing their solutions. The next time the same sub-problem occurs, instead of recomputing its solution, one simply looks up the previously computed solution, thereby saving computation time at the expense of a (hopefully) modest expenditure in storage space. Each of the sub-problems is said to overlap with the next, hence the term \"dynamic programming\".\n",
    "\n",
    "## Fibonacci Sequence\n",
    "\n",
    "The Fibonacci sequence is a sequence of numbers where each number is the sum of the previous two numbers. The sequence starts with 0 and 1. The first 10 numbers in the Fibonacci sequence are 0, 1, 1, 2, 3, 5, 8, 13, 21, and 34."
   ]
  },
  {
   "cell_type": "code",
   "execution_count": 8,
   "metadata": {},
   "outputs": [
    {
     "name": "stdout",
     "output_type": "stream",
     "text": [
      "102334155\n"
     ]
    }
   ],
   "source": [
    "def fibR(n):\n",
    "    \"\"\"Return the nth Fibonacci number. with just Recursion\"\"\"\n",
    "    if n <= 2: return 1\n",
    "    return fibR(n-1) + fibR(n-2)\n",
    "\n",
    "print(fibR(40))\n",
    "\n",
    "# this takes a long time to run and is not efficient at all over 2min"
   ]
  },
  {
   "cell_type": "markdown",
   "metadata": {},
   "source": [
    "## Memoization\n",
    "\n",
    "Memoization is an optimization technique used primarily to speed up computer programs by storing the results of expensive function calls and returning the cached result when the same inputs occur again. For example, if a function is called with the same arguments multiple times, it can look up the previously computed result instead of recomputing it. This technique is also known as memoization, top-down dynamic programming, or tabulation."
   ]
  },
  {
   "cell_type": "code",
   "execution_count": 1,
   "metadata": {},
   "outputs": [
    {
     "name": "stdout",
     "output_type": "stream",
     "text": [
      "102334155\n"
     ]
    }
   ],
   "source": [
    "def fibMemo(n , memo = {}):\n",
    "    \"\"\"Return the nth Fibonacci number. with Memoization\"\"\"\n",
    "    if n in memo: return memo[n]\n",
    "    if n <= 2: return 1\n",
    "    memo[n] = fibMemo(n-1, memo) + fibMemo(n-2, memo)\n",
    "    return memo[n]\n",
    "\n",
    "print(fibMemo(40))"
   ]
  },
  {
   "cell_type": "code",
   "execution_count": 7,
   "metadata": {},
   "outputs": [
    {
     "name": "stdout",
     "output_type": "stream",
     "text": [
      "1\n"
     ]
    }
   ],
   "source": [
    "def gridTraveler(m, n, memo = {}):\n",
    "    \"\"\"Return the number of ways to travel from top left to bottom right\"\"\"\n",
    "    key = str(m) + ',' + str(n)\n",
    "    if key in memo: return memo[key]\n",
    "    if m == 1 and n == 1: return 1\n",
    "    if m == 0 or n == 0: return 0\n",
    "    memo[key] = gridTraveler(m-1, n, memo) + gridTraveler(m, n-1, memo) #\n",
    "    return memo[key]\n",
    "\n",
    "print(gridTraveler(1,4))\n",
    "\n"
   ]
  }
 ],
 "metadata": {
  "kernelspec": {
   "display_name": "Python 3.10.4 64-bit",
   "language": "python",
   "name": "python3"
  },
  "language_info": {
   "codemirror_mode": {
    "name": "ipython",
    "version": 3
   },
   "file_extension": ".py",
   "mimetype": "text/x-python",
   "name": "python",
   "nbconvert_exporter": "python",
   "pygments_lexer": "ipython3",
   "version": "3.10.4"
  },
  "orig_nbformat": 4,
  "vscode": {
   "interpreter": {
    "hash": "369f2c481f4da34e4445cda3fffd2e751bd1c4d706f27375911949ba6bb62e1c"
   }
  }
 },
 "nbformat": 4,
 "nbformat_minor": 2
}
